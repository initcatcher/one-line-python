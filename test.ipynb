{
 "cells": [
  {
   "cell_type": "code",
   "execution_count": 1,
   "metadata": {},
   "outputs": [
    {
     "name": "stdout",
     "output_type": "stream",
     "text": [
      "The Zen of Python, by Tim Peters\n",
      "\n",
      "Beautiful is better than ugly.\n",
      "Explicit is better than implicit.\n",
      "Simple is better than complex.\n",
      "Complex is better than complicated.\n",
      "Flat is better than nested.\n",
      "Sparse is better than dense.\n",
      "Readability counts.\n",
      "Special cases aren't special enough to break the rules.\n",
      "Although practicality beats purity.\n",
      "Errors should never pass silently.\n",
      "Unless explicitly silenced.\n",
      "In the face of ambiguity, refuse the temptation to guess.\n",
      "There should be one-- and preferably only one --obvious way to do it.\n",
      "Although that way may not be obvious at first unless you're Dutch.\n",
      "Now is better than never.\n",
      "Although never is often better than *right* now.\n",
      "If the implementation is hard to explain, it's a bad idea.\n",
      "If the implementation is easy to explain, it may be a good idea.\n",
      "Namespaces are one honking great idea -- let's do more of those!\n"
     ]
    }
   ],
   "source": [
    "import this"
   ]
  },
  {
   "cell_type": "code",
   "execution_count": null,
   "metadata": {},
   "outputs": [
    {
     "name": "stdout",
     "output_type": "stream",
     "text": [
      "['i', 'am', 'that', 'i', 'am']\n"
     ]
    }
   ],
   "source": [
    "# 리스트 컴프리핸션\n",
    "\n",
    "# [표현식 + 컨텍스트]\n",
    "# 컨텍스트: 리스트에서 어떤값을 선택할것인지 정의함\n",
    "# 표현식: 각 값을 리스트에 추가하기 전에 어떻게 변경할지 정의한다.\n",
    "\n",
    "\n",
    "ans = [x.lower() for x in ['I', 'AM', 'THAT', 'I', 'AM']]\n",
    "print(ans)"
   ]
  },
  {
   "cell_type": "code",
   "execution_count": null,
   "metadata": {},
   "outputs": [],
   "source": [
    "# map 함수\n",
    "\n",
    "# 함수 f 와 시퀀스 s 를 입력 매개변수로 받음\n",
    "\n",
    "# 슬라이스 대입 (대입식의 왼쪽에 슬라이싱 표기법을 사용해 원래 시퀀스의 일부를 수정가능)\n",
    "\n",
    "# any() 는 들어온값중 하나라도 참인경우 참을 반환한다.\n",
    "\n",
    "# 슬라이스연산자 [1:-2] 등 양수,음수 섞어서 사용가능하다"
   ]
  }
 ],
 "metadata": {
  "kernelspec": {
   "display_name": "base",
   "language": "python",
   "name": "python3"
  },
  "language_info": {
   "codemirror_mode": {
    "name": "ipython",
    "version": 3
   },
   "file_extension": ".py",
   "mimetype": "text/x-python",
   "name": "python",
   "nbconvert_exporter": "python",
   "pygments_lexer": "ipython3",
   "version": "3.11.4"
  }
 },
 "nbformat": 4,
 "nbformat_minor": 2
}
